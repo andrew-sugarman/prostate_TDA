{
 "cells": [
  {
   "cell_type": "code",
   "execution_count": 1,
   "metadata": {},
   "outputs": [
    {
     "name": "stdout",
     "output_type": "stream",
     "text": [
      "Jupyter environment detected. Enabling Open3D WebVisualizer.\n",
      "[Open3D INFO] WebRTC GUI backend enabled.\n",
      "[Open3D INFO] WebRTCWindowSystem: HTTP handshake server disabled.\n"
     ]
    }
   ],
   "source": [
    "## import point cloud\n",
    "import open3d as o3d\n",
    "import numpy as np\n",
    "\n",
    "# Load the point cloud from the exported .ply file\n",
    "ply_file = r\"C:\\Users\\g7712_razer2\\Downloads\\meshtry1.ply\"\n",
    "\n",
    "pcd = o3d.io.read_point_cloud(ply_file)\n",
    "\n",
    "# Display the point cloud (optional visualization step)\n",
    "o3d.visualization.draw_geometries([pcd])\n"
   ]
  },
  {
   "cell_type": "code",
   "execution_count": null,
   "metadata": {},
   "outputs": [],
   "source": [
    "import numpy as np\n",
    "\n",
    "# Check how many points are in the point cloud\n",
    "print(f\"Number of points in the cloud: {len(pcd.points)}\")\n",
    "\n",
    "# Optionally, print the first few points\n",
    "print(np.asarray(pcd.points)[:5])  # Convert to a NumPy array to inspect\n",
    "\n",
    "# Downsample the point cloud using a voxel size (adjust the voxel size to your needs)\n",
    "downsampled_pcd = pcd.voxel_down_sample(voxel_size=15)  # You can try different voxel sizes\n",
    "\n",
    "# Visualize the downsampled point cloud\n",
    "o3d.visualization.draw_geometries([downsampled_pcd])\n",
    "\n",
    "# Check the number of points after downsampling\n",
    "print(f\"Number of points after downsampling: {len(downsampled_pcd.points)}\")\n",
    "\n",
    "## RIPSER TRY 1 ##\n",
    "from ripser import ripser\n",
    "import numpy as np\n",
    "\n",
    "# Convert the point cloud to a NumPy array for TDA processing\n",
    "point_cloud_np = np.asarray(downsampled_pcd.points)\n",
    "\n",
    "# Compute persistent homology on the point cloud\n",
    "#result = ripser(point_cloud_np)\n",
    "\n",
    "# Plot the persistence diagram (if matplotlib is installed)\n",
    "import matplotlib.pyplot as plt\n",
    "#plt.figure()\n",
    "#plt.title(\"Persistence Diagram\")\n",
    "#plt.plot(result['dgms'])\n",
    "#plt.show()\n"
   ]
  },
  {
   "cell_type": "code",
   "execution_count": null,
   "metadata": {},
   "outputs": [],
   "source": [
    "import numpy as np\n",
    "import open3d as o3d\n",
    "import gudhi as gd\n",
    "\n",
    "# Load the downsampled point cloud\n",
    "pcd = o3d.io.read_point_cloud(ply_file)\n",
    "point_cloud = np.asarray(pcd.points)\n",
    "\n",
    "# Define a maximum distance threshold for building simplices (radius)\n",
    "#max_radius = 0.5\n",
    "\n",
    "# Create Vietoris-Rips complex\n",
    "# rips_complex = gd.RipsComplex(points=point_cloud, max_edge_length=max_radius)\n",
    "\n",
    "# Generate the simplex tree\n",
    "#simplex_tree = rips_complex.create_simplex_tree(max_dimension=2)\n",
    "\n",
    "# Extract the simplices from the simplex tree\n",
    "#simplices = simplex_tree.get_skeleton(2)  # 2 for edges and triangles\n",
    "\n",
    "# Print some simplices\n",
    "#for simplex in simplices:\n",
    "   # print(simplex)\n"
   ]
  },
  {
   "cell_type": "code",
   "execution_count": null,
   "metadata": {},
   "outputs": [],
   "source": [
    "import open3d as o3d\n",
    "\n",
    "# Create an Open3D LineSet for edges\n",
    "lines = []\n",
    "vertices = point_cloud_np.tolist()\n",
    "edges = []\n",
    "\n",
    "for simplex in simplices:\n",
    "    if len(simplex[0]) == 2:  # If it's an edge (2 points)\n",
    "        i, j = simplex[0]\n",
    "        edges.append([i, j])\n",
    "\n",
    "line_set = o3d.geometry.LineSet(\n",
    "    points=o3d.utility.Vector3dVector(vertices),\n",
    "    lines=o3d.utility.Vector2iVector(edges)\n",
    ")\n",
    "\n",
    "# Visualize\n",
    "o3d.visualization.draw_geometries([line_set])\n"
   ]
  }
 ],
 "metadata": {
  "kernelspec": {
   "display_name": "3d",
   "language": "python",
   "name": "python3"
  },
  "language_info": {
   "codemirror_mode": {
    "name": "ipython",
    "version": 3
   },
   "file_extension": ".py",
   "mimetype": "text/x-python",
   "name": "python",
   "nbconvert_exporter": "python",
   "pygments_lexer": "ipython3",
   "version": "3.8.20"
  }
 },
 "nbformat": 4,
 "nbformat_minor": 2
}
